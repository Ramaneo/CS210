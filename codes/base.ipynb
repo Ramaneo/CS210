{
  "nbformat": 4,
  "nbformat_minor": 0,
  "metadata": {
    "colab": {
      "provenance": []
    },
    "kernelspec": {
      "name": "python3",
      "display_name": "Python 3"
    },
    "language_info": {
      "name": "python"
    }
  },
  "cells": [
    {
      "cell_type": "code",
      "source": [
        "import pandas as pd\n",
        "import numpy as np"
      ],
      "metadata": {
        "id": "_ADuT95nbZaR"
      },
      "execution_count": 5,
      "outputs": []
    },
    {
      "cell_type": "code",
      "execution_count": 2,
      "metadata": {
        "colab": {
          "base_uri": "https://localhost:8080/"
        },
        "id": "u4u8uWnFan1v",
        "outputId": "41162f01-f781-4f9e-8568-1cef15357dd6"
      },
      "outputs": [
        {
          "output_type": "stream",
          "name": "stdout",
          "text": [
            "Drive already mounted at /content/drive/; to attempt to forcibly remount, call drive.mount(\"/content/drive/\", force_remount=True).\n"
          ]
        }
      ],
      "source": [
        "from google.colab import drive\n",
        "drive.mount('/content/drive/')"
      ]
    },
    {
      "cell_type": "code",
      "source": [
        "cd drive/"
      ],
      "metadata": {
        "colab": {
          "base_uri": "https://localhost:8080/"
        },
        "id": "Xgz3kd35a10F",
        "outputId": "9aae1794-7b38-4e2f-9aa4-b0032dd4f5fd"
      },
      "execution_count": 3,
      "outputs": [
        {
          "output_type": "stream",
          "name": "stdout",
          "text": [
            "/content/drive\n"
          ]
        }
      ]
    },
    {
      "cell_type": "code",
      "source": [
        "cd MyDrive/"
      ],
      "metadata": {
        "colab": {
          "base_uri": "https://localhost:8080/"
        },
        "id": "Smi77nP7bOVf",
        "outputId": "3852ff14-f359-40af-9913-e8dcd78d6ac8"
      },
      "execution_count": 4,
      "outputs": [
        {
          "output_type": "stream",
          "name": "stdout",
          "text": [
            "/content/drive/MyDrive\n"
          ]
        }
      ]
    },
    {
      "cell_type": "code",
      "source": [
        "filename = 'yonelimfinal.csv'\n",
        "df = pd.read_csv(filename, delimiter=';', index_col=0)"
      ],
      "metadata": {
        "id": "qSb1sXLcbQ0C"
      },
      "execution_count": 12,
      "outputs": []
    },
    {
      "cell_type": "code",
      "source": [
        "df.columns"
      ],
      "metadata": {
        "colab": {
          "base_uri": "https://localhost:8080/"
        },
        "id": "rYwxpbAzbeIe",
        "outputId": "ad43d284-1c7a-415a-91aa-f435eef420e4"
      },
      "execution_count": 13,
      "outputs": [
        {
          "output_type": "execute_result",
          "data": {
            "text/plain": [
              "Index(['Cinsiyet', 'Yas', 'Bolge', 'Egitim', 'soru1', 'soru2', 'soru3',\n",
              "       'soru4', 'soru5', 'soru6', 'soru7', 'soru8', 'soru9', 'soru10',\n",
              "       'parti'],\n",
              "      dtype='object')"
            ]
          },
          "metadata": {},
          "execution_count": 13
        }
      ]
    },
    {
      "cell_type": "code",
      "source": [
        "df.head()"
      ],
      "metadata": {
        "colab": {
          "base_uri": "https://localhost:8080/",
          "height": 237
        },
        "id": "MxygLJHsd5eY",
        "outputId": "736e4fe2-2d2d-4610-87a9-bac9b9fd6be6"
      },
      "execution_count": 14,
      "outputs": [
        {
          "output_type": "execute_result",
          "data": {
            "text/plain": [
              "                  Cinsiyet    Yas    Bolge     Egitim  soru1 soru2  soru3  \\\n",
              "ï»¿Timestamp                                                                \n",
              "5.11.2018 1:26:14    Erkek  18-30  Marmara     Lisans  Hayır  Evet   Evet   \n",
              "5.11.2018 1:28:11    Erkek  18-30  Marmara     Lisans   Evet  Evet  Hayır   \n",
              "5.11.2018 1:28:26    Kadın  18-30  Marmara     Lisans  Hayır  Evet  Hayır   \n",
              "5.11.2018 1:30:18    Erkek   0-18  Marmara       Lise   Evet  Evet  Hayır   \n",
              "5.11.2018 1:30:21    Erkek  18-30  Marmara  Ön lisans  Hayır  Evet   Evet   \n",
              "\n",
              "                   soru4  soru5  soru6  soru7  soru8  soru9 soru10      parti  \n",
              "ï»¿Timestamp                                                                   \n",
              "5.11.2018 1:26:14  Hayır  Hayır  Hayır   Evet  Hayır   Evet   Evet  IYI PARTI  \n",
              "5.11.2018 1:28:11   Evet  Hayır   Evet  Hayır   Evet  Hayır  Hayır        AKP  \n",
              "5.11.2018 1:28:26  Hayır  Hayır  Hayır   Evet  Hayır   Evet   Evet      Diğer  \n",
              "5.11.2018 1:30:18   Evet  Hayır   Evet   Evet   Evet   Evet   Evet  IYI PARTI  \n",
              "5.11.2018 1:30:21   Evet  Hayır  Hayır   Evet   Evet  Hayır  Hayır  IYI PARTI  "
            ],
            "text/html": [
              "\n",
              "  <div id=\"df-571361da-61f4-42b9-9d7f-716e32f24e47\">\n",
              "    <div class=\"colab-df-container\">\n",
              "      <div>\n",
              "<style scoped>\n",
              "    .dataframe tbody tr th:only-of-type {\n",
              "        vertical-align: middle;\n",
              "    }\n",
              "\n",
              "    .dataframe tbody tr th {\n",
              "        vertical-align: top;\n",
              "    }\n",
              "\n",
              "    .dataframe thead th {\n",
              "        text-align: right;\n",
              "    }\n",
              "</style>\n",
              "<table border=\"1\" class=\"dataframe\">\n",
              "  <thead>\n",
              "    <tr style=\"text-align: right;\">\n",
              "      <th></th>\n",
              "      <th>Cinsiyet</th>\n",
              "      <th>Yas</th>\n",
              "      <th>Bolge</th>\n",
              "      <th>Egitim</th>\n",
              "      <th>soru1</th>\n",
              "      <th>soru2</th>\n",
              "      <th>soru3</th>\n",
              "      <th>soru4</th>\n",
              "      <th>soru5</th>\n",
              "      <th>soru6</th>\n",
              "      <th>soru7</th>\n",
              "      <th>soru8</th>\n",
              "      <th>soru9</th>\n",
              "      <th>soru10</th>\n",
              "      <th>parti</th>\n",
              "    </tr>\n",
              "    <tr>\n",
              "      <th>ï»¿Timestamp</th>\n",
              "      <th></th>\n",
              "      <th></th>\n",
              "      <th></th>\n",
              "      <th></th>\n",
              "      <th></th>\n",
              "      <th></th>\n",
              "      <th></th>\n",
              "      <th></th>\n",
              "      <th></th>\n",
              "      <th></th>\n",
              "      <th></th>\n",
              "      <th></th>\n",
              "      <th></th>\n",
              "      <th></th>\n",
              "      <th></th>\n",
              "    </tr>\n",
              "  </thead>\n",
              "  <tbody>\n",
              "    <tr>\n",
              "      <th>5.11.2018 1:26:14</th>\n",
              "      <td>Erkek</td>\n",
              "      <td>18-30</td>\n",
              "      <td>Marmara</td>\n",
              "      <td>Lisans</td>\n",
              "      <td>Hayır</td>\n",
              "      <td>Evet</td>\n",
              "      <td>Evet</td>\n",
              "      <td>Hayır</td>\n",
              "      <td>Hayır</td>\n",
              "      <td>Hayır</td>\n",
              "      <td>Evet</td>\n",
              "      <td>Hayır</td>\n",
              "      <td>Evet</td>\n",
              "      <td>Evet</td>\n",
              "      <td>IYI PARTI</td>\n",
              "    </tr>\n",
              "    <tr>\n",
              "      <th>5.11.2018 1:28:11</th>\n",
              "      <td>Erkek</td>\n",
              "      <td>18-30</td>\n",
              "      <td>Marmara</td>\n",
              "      <td>Lisans</td>\n",
              "      <td>Evet</td>\n",
              "      <td>Evet</td>\n",
              "      <td>Hayır</td>\n",
              "      <td>Evet</td>\n",
              "      <td>Hayır</td>\n",
              "      <td>Evet</td>\n",
              "      <td>Hayır</td>\n",
              "      <td>Evet</td>\n",
              "      <td>Hayır</td>\n",
              "      <td>Hayır</td>\n",
              "      <td>AKP</td>\n",
              "    </tr>\n",
              "    <tr>\n",
              "      <th>5.11.2018 1:28:26</th>\n",
              "      <td>Kadın</td>\n",
              "      <td>18-30</td>\n",
              "      <td>Marmara</td>\n",
              "      <td>Lisans</td>\n",
              "      <td>Hayır</td>\n",
              "      <td>Evet</td>\n",
              "      <td>Hayır</td>\n",
              "      <td>Hayır</td>\n",
              "      <td>Hayır</td>\n",
              "      <td>Hayır</td>\n",
              "      <td>Evet</td>\n",
              "      <td>Hayır</td>\n",
              "      <td>Evet</td>\n",
              "      <td>Evet</td>\n",
              "      <td>Diğer</td>\n",
              "    </tr>\n",
              "    <tr>\n",
              "      <th>5.11.2018 1:30:18</th>\n",
              "      <td>Erkek</td>\n",
              "      <td>0-18</td>\n",
              "      <td>Marmara</td>\n",
              "      <td>Lise</td>\n",
              "      <td>Evet</td>\n",
              "      <td>Evet</td>\n",
              "      <td>Hayır</td>\n",
              "      <td>Evet</td>\n",
              "      <td>Hayır</td>\n",
              "      <td>Evet</td>\n",
              "      <td>Evet</td>\n",
              "      <td>Evet</td>\n",
              "      <td>Evet</td>\n",
              "      <td>Evet</td>\n",
              "      <td>IYI PARTI</td>\n",
              "    </tr>\n",
              "    <tr>\n",
              "      <th>5.11.2018 1:30:21</th>\n",
              "      <td>Erkek</td>\n",
              "      <td>18-30</td>\n",
              "      <td>Marmara</td>\n",
              "      <td>Ön lisans</td>\n",
              "      <td>Hayır</td>\n",
              "      <td>Evet</td>\n",
              "      <td>Evet</td>\n",
              "      <td>Evet</td>\n",
              "      <td>Hayır</td>\n",
              "      <td>Hayır</td>\n",
              "      <td>Evet</td>\n",
              "      <td>Evet</td>\n",
              "      <td>Hayır</td>\n",
              "      <td>Hayır</td>\n",
              "      <td>IYI PARTI</td>\n",
              "    </tr>\n",
              "  </tbody>\n",
              "</table>\n",
              "</div>\n",
              "      <button class=\"colab-df-convert\" onclick=\"convertToInteractive('df-571361da-61f4-42b9-9d7f-716e32f24e47')\"\n",
              "              title=\"Convert this dataframe to an interactive table.\"\n",
              "              style=\"display:none;\">\n",
              "        \n",
              "  <svg xmlns=\"http://www.w3.org/2000/svg\" height=\"24px\"viewBox=\"0 0 24 24\"\n",
              "       width=\"24px\">\n",
              "    <path d=\"M0 0h24v24H0V0z\" fill=\"none\"/>\n",
              "    <path d=\"M18.56 5.44l.94 2.06.94-2.06 2.06-.94-2.06-.94-.94-2.06-.94 2.06-2.06.94zm-11 1L8.5 8.5l.94-2.06 2.06-.94-2.06-.94L8.5 2.5l-.94 2.06-2.06.94zm10 10l.94 2.06.94-2.06 2.06-.94-2.06-.94-.94-2.06-.94 2.06-2.06.94z\"/><path d=\"M17.41 7.96l-1.37-1.37c-.4-.4-.92-.59-1.43-.59-.52 0-1.04.2-1.43.59L10.3 9.45l-7.72 7.72c-.78.78-.78 2.05 0 2.83L4 21.41c.39.39.9.59 1.41.59.51 0 1.02-.2 1.41-.59l7.78-7.78 2.81-2.81c.8-.78.8-2.07 0-2.86zM5.41 20L4 18.59l7.72-7.72 1.47 1.35L5.41 20z\"/>\n",
              "  </svg>\n",
              "      </button>\n",
              "      \n",
              "  <style>\n",
              "    .colab-df-container {\n",
              "      display:flex;\n",
              "      flex-wrap:wrap;\n",
              "      gap: 12px;\n",
              "    }\n",
              "\n",
              "    .colab-df-convert {\n",
              "      background-color: #E8F0FE;\n",
              "      border: none;\n",
              "      border-radius: 50%;\n",
              "      cursor: pointer;\n",
              "      display: none;\n",
              "      fill: #1967D2;\n",
              "      height: 32px;\n",
              "      padding: 0 0 0 0;\n",
              "      width: 32px;\n",
              "    }\n",
              "\n",
              "    .colab-df-convert:hover {\n",
              "      background-color: #E2EBFA;\n",
              "      box-shadow: 0px 1px 2px rgba(60, 64, 67, 0.3), 0px 1px 3px 1px rgba(60, 64, 67, 0.15);\n",
              "      fill: #174EA6;\n",
              "    }\n",
              "\n",
              "    [theme=dark] .colab-df-convert {\n",
              "      background-color: #3B4455;\n",
              "      fill: #D2E3FC;\n",
              "    }\n",
              "\n",
              "    [theme=dark] .colab-df-convert:hover {\n",
              "      background-color: #434B5C;\n",
              "      box-shadow: 0px 1px 3px 1px rgba(0, 0, 0, 0.15);\n",
              "      filter: drop-shadow(0px 1px 2px rgba(0, 0, 0, 0.3));\n",
              "      fill: #FFFFFF;\n",
              "    }\n",
              "  </style>\n",
              "\n",
              "      <script>\n",
              "        const buttonEl =\n",
              "          document.querySelector('#df-571361da-61f4-42b9-9d7f-716e32f24e47 button.colab-df-convert');\n",
              "        buttonEl.style.display =\n",
              "          google.colab.kernel.accessAllowed ? 'block' : 'none';\n",
              "\n",
              "        async function convertToInteractive(key) {\n",
              "          const element = document.querySelector('#df-571361da-61f4-42b9-9d7f-716e32f24e47');\n",
              "          const dataTable =\n",
              "            await google.colab.kernel.invokeFunction('convertToInteractive',\n",
              "                                                     [key], {});\n",
              "          if (!dataTable) return;\n",
              "\n",
              "          const docLinkHtml = 'Like what you see? Visit the ' +\n",
              "            '<a target=\"_blank\" href=https://colab.research.google.com/notebooks/data_table.ipynb>data table notebook</a>'\n",
              "            + ' to learn more about interactive tables.';\n",
              "          element.innerHTML = '';\n",
              "          dataTable['output_type'] = 'display_data';\n",
              "          await google.colab.output.renderOutput(dataTable, element);\n",
              "          const docLink = document.createElement('div');\n",
              "          docLink.innerHTML = docLinkHtml;\n",
              "          element.appendChild(docLink);\n",
              "        }\n",
              "      </script>\n",
              "    </div>\n",
              "  </div>\n",
              "  "
            ]
          },
          "metadata": {},
          "execution_count": 14
        }
      ]
    },
    {
      "cell_type": "code",
      "source": [
        "df.tail()"
      ],
      "metadata": {
        "colab": {
          "base_uri": "https://localhost:8080/",
          "height": 237
        },
        "id": "sl0eU6XgeFjA",
        "outputId": "5dbae3b4-be83-4a5d-e0f1-392fb9630589"
      },
      "execution_count": 15,
      "outputs": [
        {
          "output_type": "execute_result",
          "data": {
            "text/plain": [
              "                   Cinsiyet    Yas      Bolge       Egitim  soru1 soru2  \\\n",
              "ï»¿Timestamp                                                              \n",
              "5.22.2018 21:17:09    Erkek   0-18  Güneydoğu         Lise  Hayır  Evet   \n",
              "5.23.2018 9:05:59     Erkek   0-18    Marmara         Lise  Hayır  Evet   \n",
              "5.25.2018 19:56:24    Erkek  30-50    Marmara  Lisans üstü  Hayır  Evet   \n",
              "5.26.2018 2:36:32     Erkek  18-30    Marmara         Lise  Hayır  Evet   \n",
              "5.27.2018 2:20:17     Erkek  18-30    Akdeniz         Lise   Evet  Evet   \n",
              "\n",
              "                    soru3  soru4  soru5  soru6  soru7  soru8 soru9 soru10  \\\n",
              "ï»¿Timestamp                                                                \n",
              "5.22.2018 21:17:09  Hayır   Evet  Hayır   Evet  Hayır   Evet  Evet   Evet   \n",
              "5.23.2018 9:05:59    Evet  Hayır  Hayır   Evet   Evet   Evet  Evet   Evet   \n",
              "5.25.2018 19:56:24   Evet  Hayır  Hayır  Hayır   Evet  Hayır  Evet   Evet   \n",
              "5.26.2018 2:36:32    Evet   Evet  Hayır  Hayır   Evet  Hayır  Evet   Evet   \n",
              "5.27.2018 2:20:17   Hayır  Hayır  Hayır  Hayır   Evet  Hayır  Evet   Evet   \n",
              "\n",
              "                        parti  \n",
              "ï»¿Timestamp                   \n",
              "5.22.2018 21:17:09      Diğer  \n",
              "5.23.2018 9:05:59   IYI PARTI  \n",
              "5.25.2018 19:56:24      Diğer  \n",
              "5.26.2018 2:36:32       Diğer  \n",
              "5.27.2018 2:20:17         CHP  "
            ],
            "text/html": [
              "\n",
              "  <div id=\"df-eb022c09-7893-4e83-9e31-111f9923bf38\">\n",
              "    <div class=\"colab-df-container\">\n",
              "      <div>\n",
              "<style scoped>\n",
              "    .dataframe tbody tr th:only-of-type {\n",
              "        vertical-align: middle;\n",
              "    }\n",
              "\n",
              "    .dataframe tbody tr th {\n",
              "        vertical-align: top;\n",
              "    }\n",
              "\n",
              "    .dataframe thead th {\n",
              "        text-align: right;\n",
              "    }\n",
              "</style>\n",
              "<table border=\"1\" class=\"dataframe\">\n",
              "  <thead>\n",
              "    <tr style=\"text-align: right;\">\n",
              "      <th></th>\n",
              "      <th>Cinsiyet</th>\n",
              "      <th>Yas</th>\n",
              "      <th>Bolge</th>\n",
              "      <th>Egitim</th>\n",
              "      <th>soru1</th>\n",
              "      <th>soru2</th>\n",
              "      <th>soru3</th>\n",
              "      <th>soru4</th>\n",
              "      <th>soru5</th>\n",
              "      <th>soru6</th>\n",
              "      <th>soru7</th>\n",
              "      <th>soru8</th>\n",
              "      <th>soru9</th>\n",
              "      <th>soru10</th>\n",
              "      <th>parti</th>\n",
              "    </tr>\n",
              "    <tr>\n",
              "      <th>ï»¿Timestamp</th>\n",
              "      <th></th>\n",
              "      <th></th>\n",
              "      <th></th>\n",
              "      <th></th>\n",
              "      <th></th>\n",
              "      <th></th>\n",
              "      <th></th>\n",
              "      <th></th>\n",
              "      <th></th>\n",
              "      <th></th>\n",
              "      <th></th>\n",
              "      <th></th>\n",
              "      <th></th>\n",
              "      <th></th>\n",
              "      <th></th>\n",
              "    </tr>\n",
              "  </thead>\n",
              "  <tbody>\n",
              "    <tr>\n",
              "      <th>5.22.2018 21:17:09</th>\n",
              "      <td>Erkek</td>\n",
              "      <td>0-18</td>\n",
              "      <td>Güneydoğu</td>\n",
              "      <td>Lise</td>\n",
              "      <td>Hayır</td>\n",
              "      <td>Evet</td>\n",
              "      <td>Hayır</td>\n",
              "      <td>Evet</td>\n",
              "      <td>Hayır</td>\n",
              "      <td>Evet</td>\n",
              "      <td>Hayır</td>\n",
              "      <td>Evet</td>\n",
              "      <td>Evet</td>\n",
              "      <td>Evet</td>\n",
              "      <td>Diğer</td>\n",
              "    </tr>\n",
              "    <tr>\n",
              "      <th>5.23.2018 9:05:59</th>\n",
              "      <td>Erkek</td>\n",
              "      <td>0-18</td>\n",
              "      <td>Marmara</td>\n",
              "      <td>Lise</td>\n",
              "      <td>Hayır</td>\n",
              "      <td>Evet</td>\n",
              "      <td>Evet</td>\n",
              "      <td>Hayır</td>\n",
              "      <td>Hayır</td>\n",
              "      <td>Evet</td>\n",
              "      <td>Evet</td>\n",
              "      <td>Evet</td>\n",
              "      <td>Evet</td>\n",
              "      <td>Evet</td>\n",
              "      <td>IYI PARTI</td>\n",
              "    </tr>\n",
              "    <tr>\n",
              "      <th>5.25.2018 19:56:24</th>\n",
              "      <td>Erkek</td>\n",
              "      <td>30-50</td>\n",
              "      <td>Marmara</td>\n",
              "      <td>Lisans üstü</td>\n",
              "      <td>Hayır</td>\n",
              "      <td>Evet</td>\n",
              "      <td>Evet</td>\n",
              "      <td>Hayır</td>\n",
              "      <td>Hayır</td>\n",
              "      <td>Hayır</td>\n",
              "      <td>Evet</td>\n",
              "      <td>Hayır</td>\n",
              "      <td>Evet</td>\n",
              "      <td>Evet</td>\n",
              "      <td>Diğer</td>\n",
              "    </tr>\n",
              "    <tr>\n",
              "      <th>5.26.2018 2:36:32</th>\n",
              "      <td>Erkek</td>\n",
              "      <td>18-30</td>\n",
              "      <td>Marmara</td>\n",
              "      <td>Lise</td>\n",
              "      <td>Hayır</td>\n",
              "      <td>Evet</td>\n",
              "      <td>Evet</td>\n",
              "      <td>Evet</td>\n",
              "      <td>Hayır</td>\n",
              "      <td>Hayır</td>\n",
              "      <td>Evet</td>\n",
              "      <td>Hayır</td>\n",
              "      <td>Evet</td>\n",
              "      <td>Evet</td>\n",
              "      <td>Diğer</td>\n",
              "    </tr>\n",
              "    <tr>\n",
              "      <th>5.27.2018 2:20:17</th>\n",
              "      <td>Erkek</td>\n",
              "      <td>18-30</td>\n",
              "      <td>Akdeniz</td>\n",
              "      <td>Lise</td>\n",
              "      <td>Evet</td>\n",
              "      <td>Evet</td>\n",
              "      <td>Hayır</td>\n",
              "      <td>Hayır</td>\n",
              "      <td>Hayır</td>\n",
              "      <td>Hayır</td>\n",
              "      <td>Evet</td>\n",
              "      <td>Hayır</td>\n",
              "      <td>Evet</td>\n",
              "      <td>Evet</td>\n",
              "      <td>CHP</td>\n",
              "    </tr>\n",
              "  </tbody>\n",
              "</table>\n",
              "</div>\n",
              "      <button class=\"colab-df-convert\" onclick=\"convertToInteractive('df-eb022c09-7893-4e83-9e31-111f9923bf38')\"\n",
              "              title=\"Convert this dataframe to an interactive table.\"\n",
              "              style=\"display:none;\">\n",
              "        \n",
              "  <svg xmlns=\"http://www.w3.org/2000/svg\" height=\"24px\"viewBox=\"0 0 24 24\"\n",
              "       width=\"24px\">\n",
              "    <path d=\"M0 0h24v24H0V0z\" fill=\"none\"/>\n",
              "    <path d=\"M18.56 5.44l.94 2.06.94-2.06 2.06-.94-2.06-.94-.94-2.06-.94 2.06-2.06.94zm-11 1L8.5 8.5l.94-2.06 2.06-.94-2.06-.94L8.5 2.5l-.94 2.06-2.06.94zm10 10l.94 2.06.94-2.06 2.06-.94-2.06-.94-.94-2.06-.94 2.06-2.06.94z\"/><path d=\"M17.41 7.96l-1.37-1.37c-.4-.4-.92-.59-1.43-.59-.52 0-1.04.2-1.43.59L10.3 9.45l-7.72 7.72c-.78.78-.78 2.05 0 2.83L4 21.41c.39.39.9.59 1.41.59.51 0 1.02-.2 1.41-.59l7.78-7.78 2.81-2.81c.8-.78.8-2.07 0-2.86zM5.41 20L4 18.59l7.72-7.72 1.47 1.35L5.41 20z\"/>\n",
              "  </svg>\n",
              "      </button>\n",
              "      \n",
              "  <style>\n",
              "    .colab-df-container {\n",
              "      display:flex;\n",
              "      flex-wrap:wrap;\n",
              "      gap: 12px;\n",
              "    }\n",
              "\n",
              "    .colab-df-convert {\n",
              "      background-color: #E8F0FE;\n",
              "      border: none;\n",
              "      border-radius: 50%;\n",
              "      cursor: pointer;\n",
              "      display: none;\n",
              "      fill: #1967D2;\n",
              "      height: 32px;\n",
              "      padding: 0 0 0 0;\n",
              "      width: 32px;\n",
              "    }\n",
              "\n",
              "    .colab-df-convert:hover {\n",
              "      background-color: #E2EBFA;\n",
              "      box-shadow: 0px 1px 2px rgba(60, 64, 67, 0.3), 0px 1px 3px 1px rgba(60, 64, 67, 0.15);\n",
              "      fill: #174EA6;\n",
              "    }\n",
              "\n",
              "    [theme=dark] .colab-df-convert {\n",
              "      background-color: #3B4455;\n",
              "      fill: #D2E3FC;\n",
              "    }\n",
              "\n",
              "    [theme=dark] .colab-df-convert:hover {\n",
              "      background-color: #434B5C;\n",
              "      box-shadow: 0px 1px 3px 1px rgba(0, 0, 0, 0.15);\n",
              "      filter: drop-shadow(0px 1px 2px rgba(0, 0, 0, 0.3));\n",
              "      fill: #FFFFFF;\n",
              "    }\n",
              "  </style>\n",
              "\n",
              "      <script>\n",
              "        const buttonEl =\n",
              "          document.querySelector('#df-eb022c09-7893-4e83-9e31-111f9923bf38 button.colab-df-convert');\n",
              "        buttonEl.style.display =\n",
              "          google.colab.kernel.accessAllowed ? 'block' : 'none';\n",
              "\n",
              "        async function convertToInteractive(key) {\n",
              "          const element = document.querySelector('#df-eb022c09-7893-4e83-9e31-111f9923bf38');\n",
              "          const dataTable =\n",
              "            await google.colab.kernel.invokeFunction('convertToInteractive',\n",
              "                                                     [key], {});\n",
              "          if (!dataTable) return;\n",
              "\n",
              "          const docLinkHtml = 'Like what you see? Visit the ' +\n",
              "            '<a target=\"_blank\" href=https://colab.research.google.com/notebooks/data_table.ipynb>data table notebook</a>'\n",
              "            + ' to learn more about interactive tables.';\n",
              "          element.innerHTML = '';\n",
              "          dataTable['output_type'] = 'display_data';\n",
              "          await google.colab.output.renderOutput(dataTable, element);\n",
              "          const docLink = document.createElement('div');\n",
              "          docLink.innerHTML = docLinkHtml;\n",
              "          element.appendChild(docLink);\n",
              "        }\n",
              "      </script>\n",
              "    </div>\n",
              "  </div>\n",
              "  "
            ]
          },
          "metadata": {},
          "execution_count": 15
        }
      ]
    },
    {
      "cell_type": "code",
      "source": [
        "df.dtypes"
      ],
      "metadata": {
        "colab": {
          "base_uri": "https://localhost:8080/"
        },
        "id": "VQmgaHJqeHPh",
        "outputId": "4a83a4a4-1dec-48f1-bc7d-ec9e3f28fd20"
      },
      "execution_count": 16,
      "outputs": [
        {
          "output_type": "execute_result",
          "data": {
            "text/plain": [
              "Cinsiyet    object\n",
              "Yas         object\n",
              "Bolge       object\n",
              "Egitim      object\n",
              "soru1       object\n",
              "soru2       object\n",
              "soru3       object\n",
              "soru4       object\n",
              "soru5       object\n",
              "soru6       object\n",
              "soru7       object\n",
              "soru8       object\n",
              "soru9       object\n",
              "soru10      object\n",
              "parti       object\n",
              "dtype: object"
            ]
          },
          "metadata": {},
          "execution_count": 16
        }
      ]
    },
    {
      "cell_type": "code",
      "source": [
        "df.describe()"
      ],
      "metadata": {
        "colab": {
          "base_uri": "https://localhost:8080/",
          "height": 175
        },
        "id": "4dkcXVljeKBH",
        "outputId": "55ad31a5-3785-4bc2-827d-f4bdef26d18c"
      },
      "execution_count": 17,
      "outputs": [
        {
          "output_type": "execute_result",
          "data": {
            "text/plain": [
              "       Cinsiyet   Yas    Bolge Egitim  soru1 soru2 soru3 soru4  soru5  soru6  \\\n",
              "count       885   885      885    885    885   885   885   885    885    885   \n",
              "unique        2     5        7      6      2     2     2     2      2      2   \n",
              "top       Erkek  0-18  Marmara   Lise  Hayır  Evet  Evet  Evet  Hayır  Hayır   \n",
              "freq        807   389      437    532    560   837   485   515    836    633   \n",
              "\n",
              "       soru7  soru8 soru9 soru10      parti  \n",
              "count    885    885   885    885        885  \n",
              "unique     2      2     2      2          6  \n",
              "top     Evet  Hayır  Evet   Evet  IYI PARTI  \n",
              "freq     746    600   617    687        264  "
            ],
            "text/html": [
              "\n",
              "  <div id=\"df-7ba61722-d4dd-46db-b90b-419211c9de3f\">\n",
              "    <div class=\"colab-df-container\">\n",
              "      <div>\n",
              "<style scoped>\n",
              "    .dataframe tbody tr th:only-of-type {\n",
              "        vertical-align: middle;\n",
              "    }\n",
              "\n",
              "    .dataframe tbody tr th {\n",
              "        vertical-align: top;\n",
              "    }\n",
              "\n",
              "    .dataframe thead th {\n",
              "        text-align: right;\n",
              "    }\n",
              "</style>\n",
              "<table border=\"1\" class=\"dataframe\">\n",
              "  <thead>\n",
              "    <tr style=\"text-align: right;\">\n",
              "      <th></th>\n",
              "      <th>Cinsiyet</th>\n",
              "      <th>Yas</th>\n",
              "      <th>Bolge</th>\n",
              "      <th>Egitim</th>\n",
              "      <th>soru1</th>\n",
              "      <th>soru2</th>\n",
              "      <th>soru3</th>\n",
              "      <th>soru4</th>\n",
              "      <th>soru5</th>\n",
              "      <th>soru6</th>\n",
              "      <th>soru7</th>\n",
              "      <th>soru8</th>\n",
              "      <th>soru9</th>\n",
              "      <th>soru10</th>\n",
              "      <th>parti</th>\n",
              "    </tr>\n",
              "  </thead>\n",
              "  <tbody>\n",
              "    <tr>\n",
              "      <th>count</th>\n",
              "      <td>885</td>\n",
              "      <td>885</td>\n",
              "      <td>885</td>\n",
              "      <td>885</td>\n",
              "      <td>885</td>\n",
              "      <td>885</td>\n",
              "      <td>885</td>\n",
              "      <td>885</td>\n",
              "      <td>885</td>\n",
              "      <td>885</td>\n",
              "      <td>885</td>\n",
              "      <td>885</td>\n",
              "      <td>885</td>\n",
              "      <td>885</td>\n",
              "      <td>885</td>\n",
              "    </tr>\n",
              "    <tr>\n",
              "      <th>unique</th>\n",
              "      <td>2</td>\n",
              "      <td>5</td>\n",
              "      <td>7</td>\n",
              "      <td>6</td>\n",
              "      <td>2</td>\n",
              "      <td>2</td>\n",
              "      <td>2</td>\n",
              "      <td>2</td>\n",
              "      <td>2</td>\n",
              "      <td>2</td>\n",
              "      <td>2</td>\n",
              "      <td>2</td>\n",
              "      <td>2</td>\n",
              "      <td>2</td>\n",
              "      <td>6</td>\n",
              "    </tr>\n",
              "    <tr>\n",
              "      <th>top</th>\n",
              "      <td>Erkek</td>\n",
              "      <td>0-18</td>\n",
              "      <td>Marmara</td>\n",
              "      <td>Lise</td>\n",
              "      <td>Hayır</td>\n",
              "      <td>Evet</td>\n",
              "      <td>Evet</td>\n",
              "      <td>Evet</td>\n",
              "      <td>Hayır</td>\n",
              "      <td>Hayır</td>\n",
              "      <td>Evet</td>\n",
              "      <td>Hayır</td>\n",
              "      <td>Evet</td>\n",
              "      <td>Evet</td>\n",
              "      <td>IYI PARTI</td>\n",
              "    </tr>\n",
              "    <tr>\n",
              "      <th>freq</th>\n",
              "      <td>807</td>\n",
              "      <td>389</td>\n",
              "      <td>437</td>\n",
              "      <td>532</td>\n",
              "      <td>560</td>\n",
              "      <td>837</td>\n",
              "      <td>485</td>\n",
              "      <td>515</td>\n",
              "      <td>836</td>\n",
              "      <td>633</td>\n",
              "      <td>746</td>\n",
              "      <td>600</td>\n",
              "      <td>617</td>\n",
              "      <td>687</td>\n",
              "      <td>264</td>\n",
              "    </tr>\n",
              "  </tbody>\n",
              "</table>\n",
              "</div>\n",
              "      <button class=\"colab-df-convert\" onclick=\"convertToInteractive('df-7ba61722-d4dd-46db-b90b-419211c9de3f')\"\n",
              "              title=\"Convert this dataframe to an interactive table.\"\n",
              "              style=\"display:none;\">\n",
              "        \n",
              "  <svg xmlns=\"http://www.w3.org/2000/svg\" height=\"24px\"viewBox=\"0 0 24 24\"\n",
              "       width=\"24px\">\n",
              "    <path d=\"M0 0h24v24H0V0z\" fill=\"none\"/>\n",
              "    <path d=\"M18.56 5.44l.94 2.06.94-2.06 2.06-.94-2.06-.94-.94-2.06-.94 2.06-2.06.94zm-11 1L8.5 8.5l.94-2.06 2.06-.94-2.06-.94L8.5 2.5l-.94 2.06-2.06.94zm10 10l.94 2.06.94-2.06 2.06-.94-2.06-.94-.94-2.06-.94 2.06-2.06.94z\"/><path d=\"M17.41 7.96l-1.37-1.37c-.4-.4-.92-.59-1.43-.59-.52 0-1.04.2-1.43.59L10.3 9.45l-7.72 7.72c-.78.78-.78 2.05 0 2.83L4 21.41c.39.39.9.59 1.41.59.51 0 1.02-.2 1.41-.59l7.78-7.78 2.81-2.81c.8-.78.8-2.07 0-2.86zM5.41 20L4 18.59l7.72-7.72 1.47 1.35L5.41 20z\"/>\n",
              "  </svg>\n",
              "      </button>\n",
              "      \n",
              "  <style>\n",
              "    .colab-df-container {\n",
              "      display:flex;\n",
              "      flex-wrap:wrap;\n",
              "      gap: 12px;\n",
              "    }\n",
              "\n",
              "    .colab-df-convert {\n",
              "      background-color: #E8F0FE;\n",
              "      border: none;\n",
              "      border-radius: 50%;\n",
              "      cursor: pointer;\n",
              "      display: none;\n",
              "      fill: #1967D2;\n",
              "      height: 32px;\n",
              "      padding: 0 0 0 0;\n",
              "      width: 32px;\n",
              "    }\n",
              "\n",
              "    .colab-df-convert:hover {\n",
              "      background-color: #E2EBFA;\n",
              "      box-shadow: 0px 1px 2px rgba(60, 64, 67, 0.3), 0px 1px 3px 1px rgba(60, 64, 67, 0.15);\n",
              "      fill: #174EA6;\n",
              "    }\n",
              "\n",
              "    [theme=dark] .colab-df-convert {\n",
              "      background-color: #3B4455;\n",
              "      fill: #D2E3FC;\n",
              "    }\n",
              "\n",
              "    [theme=dark] .colab-df-convert:hover {\n",
              "      background-color: #434B5C;\n",
              "      box-shadow: 0px 1px 3px 1px rgba(0, 0, 0, 0.15);\n",
              "      filter: drop-shadow(0px 1px 2px rgba(0, 0, 0, 0.3));\n",
              "      fill: #FFFFFF;\n",
              "    }\n",
              "  </style>\n",
              "\n",
              "      <script>\n",
              "        const buttonEl =\n",
              "          document.querySelector('#df-7ba61722-d4dd-46db-b90b-419211c9de3f button.colab-df-convert');\n",
              "        buttonEl.style.display =\n",
              "          google.colab.kernel.accessAllowed ? 'block' : 'none';\n",
              "\n",
              "        async function convertToInteractive(key) {\n",
              "          const element = document.querySelector('#df-7ba61722-d4dd-46db-b90b-419211c9de3f');\n",
              "          const dataTable =\n",
              "            await google.colab.kernel.invokeFunction('convertToInteractive',\n",
              "                                                     [key], {});\n",
              "          if (!dataTable) return;\n",
              "\n",
              "          const docLinkHtml = 'Like what you see? Visit the ' +\n",
              "            '<a target=\"_blank\" href=https://colab.research.google.com/notebooks/data_table.ipynb>data table notebook</a>'\n",
              "            + ' to learn more about interactive tables.';\n",
              "          element.innerHTML = '';\n",
              "          dataTable['output_type'] = 'display_data';\n",
              "          await google.colab.output.renderOutput(dataTable, element);\n",
              "          const docLink = document.createElement('div');\n",
              "          docLink.innerHTML = docLinkHtml;\n",
              "          element.appendChild(docLink);\n",
              "        }\n",
              "      </script>\n",
              "    </div>\n",
              "  </div>\n",
              "  "
            ]
          },
          "metadata": {},
          "execution_count": 17
        }
      ]
    },
    {
      "cell_type": "code",
      "source": [
        "df.info()"
      ],
      "metadata": {
        "colab": {
          "base_uri": "https://localhost:8080/"
        },
        "id": "HwbT6qiNfNTI",
        "outputId": "b31edc31-c810-4d5a-c535-07969a4dae43"
      },
      "execution_count": 22,
      "outputs": [
        {
          "output_type": "stream",
          "name": "stdout",
          "text": [
            "<class 'pandas.core.frame.DataFrame'>\n",
            "Index: 885 entries, 5.11.2018 1:26:14 to 5.27.2018 2:20:17\n",
            "Data columns (total 15 columns):\n",
            " #   Column    Non-Null Count  Dtype \n",
            "---  ------    --------------  ----- \n",
            " 0   Cinsiyet  885 non-null    object\n",
            " 1   Yas       885 non-null    object\n",
            " 2   Bolge     885 non-null    object\n",
            " 3   Egitim    885 non-null    object\n",
            " 4   soru1     885 non-null    object\n",
            " 5   soru2     885 non-null    object\n",
            " 6   soru3     885 non-null    object\n",
            " 7   soru4     885 non-null    object\n",
            " 8   soru5     885 non-null    object\n",
            " 9   soru6     885 non-null    object\n",
            " 10  soru7     885 non-null    object\n",
            " 11  soru8     885 non-null    object\n",
            " 12  soru9     885 non-null    object\n",
            " 13  soru10    885 non-null    object\n",
            " 14  parti     885 non-null    object\n",
            "dtypes: object(15)\n",
            "memory usage: 142.9+ KB\n"
          ]
        }
      ]
    },
    {
      "cell_type": "code",
      "source": [
        "df.shape"
      ],
      "metadata": {
        "colab": {
          "base_uri": "https://localhost:8080/"
        },
        "id": "Ho3oF-XteK9P",
        "outputId": "fc18ca76-fca8-459c-be7b-84f88c6c7a37"
      },
      "execution_count": 18,
      "outputs": [
        {
          "output_type": "execute_result",
          "data": {
            "text/plain": [
              "(885, 15)"
            ]
          },
          "metadata": {},
          "execution_count": 18
        }
      ]
    },
    {
      "cell_type": "code",
      "source": [
        "print(df.Bolge.unique())"
      ],
      "metadata": {
        "colab": {
          "base_uri": "https://localhost:8080/"
        },
        "id": "fyxBUfV0eoD1",
        "outputId": "37bb634f-f8e1-49ee-b4f9-7080d0f17658"
      },
      "execution_count": 19,
      "outputs": [
        {
          "output_type": "stream",
          "name": "stdout",
          "text": [
            "['Marmara' 'Güneydoğu' 'Akdeniz' 'Doğu Anadolu' 'İç Anadolu' 'Karadeniz'\n",
            " 'Ege']\n"
          ]
        }
      ]
    },
    {
      "cell_type": "code",
      "source": [
        "print(df.Egitim.unique())"
      ],
      "metadata": {
        "colab": {
          "base_uri": "https://localhost:8080/"
        },
        "id": "uBielBLYeuA4",
        "outputId": "fa0675e0-6384-454b-f2df-65785f81c250"
      },
      "execution_count": 20,
      "outputs": [
        {
          "output_type": "stream",
          "name": "stdout",
          "text": [
            "['Lisans' 'Lise' 'Ön lisans' 'Lisans üstü' 'İlkokul' 'Ortaokul']\n"
          ]
        }
      ]
    },
    {
      "cell_type": "code",
      "source": [
        "print(df.Yas.unique())"
      ],
      "metadata": {
        "colab": {
          "base_uri": "https://localhost:8080/"
        },
        "id": "G5sR8ZUeewfD",
        "outputId": "e314b955-eb41-4245-ba89-8064ed9a7556"
      },
      "execution_count": 21,
      "outputs": [
        {
          "output_type": "stream",
          "name": "stdout",
          "text": [
            "['18-30' '0-18' '60+' '30-50' '50-60']\n"
          ]
        }
      ]
    }
  ]
}