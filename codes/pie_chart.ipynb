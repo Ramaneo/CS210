{
  "nbformat": 4,
  "nbformat_minor": 0,
  "metadata": {
    "colab": {
      "provenance": []
    },
    "kernelspec": {
      "name": "python3",
      "display_name": "Python 3"
    },
    "language_info": {
      "name": "python"
    }
  },
  "cells": [
    {
      "cell_type": "code",
      "execution_count": null,
      "metadata": {
        "id": "zaN3YUFMT-K0"
      },
      "outputs": [],
      "source": [
        "import pandas as pd\n",
        "import matplotlib.pyplot as plt\n",
        "import numpy as np\n",
        "import unicodedata\n",
        "from unidecode import unidecode\n",
        "\n",
        "\n",
        "df = pd.read_excel('yonelimfinal.xlsx', keep_default_na=False, na_values='')\n",
        "df.columns = [unicodedata.normalize('NFKD', col) for col in df.columns]\n",
        "\n",
        "df['parti'] = df['parti'].apply(lambda x: unidecode(x) if isinstance(x, str) else x)\n",
        "value_counts = df['parti'].value_counts()\n",
        "plt.figure(figsize=(8, 6))\n",
        "plt.pie(value_counts, labels=value_counts.index, autopct='%1.1f%%')\n",
        "plt.title('Parti Dağılımı')\n",
        "dosya_adi = 'parti'\n",
        "plt.savefig(dosya_adi)\n",
        "\n",
        "plt.show()\n",
        "\n",
        "sorular = df.columns[:-1]\n",
        "for soru in sorular:\n",
        "    value_counts = df[soru].value_counts()\n",
        "    labels = [unicodedata.normalize('NFKD', str(label)) for label in value_counts.index]\n",
        "    plt.rcParams['font.family'] = 'DejaVu Sans'\n",
        "\n",
        "    plt.figure(figsize=(8, 6))\n",
        "    plt.pie(value_counts, labels=labels, autopct='%1.1f%%')\n",
        "    plt.title(f'{soru} Dağılımı')\n",
        "    dosya_adi = f'{soru}_dagilimi.png'\n",
        "    plt.savefig(dosya_adi)\n",
        "\n",
        "\n",
        "    plt.show()"
      ]
    }
  ]
}