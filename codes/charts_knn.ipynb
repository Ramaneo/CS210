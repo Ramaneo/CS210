{
 "cells": [
  {
   "cell_type": "code",
   "execution_count": 1,
   "metadata": {},
   "outputs": [],
   "source": [
    "import pandas as pd\n",
    "import matplotlib.pyplot as plt\n",
    "import os\n",
    "\n",
    "data = pd.read_csv('yonelimfinal.csv', sep=';', encoding='utf-8')\n",
    "\n",
    "os.makedirs('histograms', exist_ok=True)\n",
    "colors = ['blue', 'red', 'green', 'orange', 'purple', 'brown', 'pink', 'gray', 'cyan', 'magenta']\n",
    "\n",
    "for i in range(1, 11):\n",
    "    column_name = f'soru{i}'\n",
    "    column_folder = f'histograms/{column_name}'\n",
    "    os.makedirs(column_folder, exist_ok=True)\n",
    "    \n",
    "    grouped_data = data.groupby('Yas')[column_name].apply(lambda x: (x == 'Evet').mean()).sort_values(ascending=True)\n",
    "    \n",
    "    plt.figure(figsize=(10, 6))\n",
    "\n",
    "    grouped_data.plot(kind='bar', color=colors[i-1])\n",
    "    plt.xlabel('Age Range')\n",
    "    plt.ylabel('Frequency')\n",
    "    plt.title(f'Number of \"Yes\" Answers in Each Age Range, Question {i}')\n",
    "    plt.xticks(rotation=45, ha='right')\n",
    "    plt.tight_layout()\n",
    "    plt.savefig(f'{column_folder}/yas{i}.png')\n",
    "    plt.close()\n"
   ]
  },
  {
   "cell_type": "code",
   "execution_count": 2,
   "metadata": {},
   "outputs": [],
   "source": [
    "for i in range(1, 11):\n",
    "    column_name = f'soru{i}'\n",
    "    column_folder = f'histograms/{column_name}'\n",
    "    os.makedirs(column_folder, exist_ok=True)\n",
    "    \n",
    "    grouped_data = data.groupby('Bolge')[column_name].apply(lambda x: (x == 'Evet').mean()).sort_values(ascending=True)\n",
    "    \n",
    "    plt.figure(figsize=(10, 6))\n",
    "\n",
    "    grouped_data.plot(kind='bar', color=colors[i-1])\n",
    "    plt.xlabel('Areas')\n",
    "    plt.ylabel('Frequency')\n",
    "    plt.title(f'Number of \"Yes\" Answers based on each Area, Question {i}')\n",
    "    plt.xticks(rotation=45, ha='right')\n",
    "    plt.tight_layout()\n",
    "    plt.savefig(f'{column_folder}/bolge{i}.png')\n",
    "    plt.close()\n"
   ]
  },
  {
   "cell_type": "code",
   "execution_count": 3,
   "metadata": {},
   "outputs": [],
   "source": [
    "for i in range(1, 11):\n",
    "    column_name = f'soru{i}'\n",
    "    column_folder = f'histograms/{column_name}'\n",
    "    os.makedirs(column_folder, exist_ok=True)\n",
    "    \n",
    "    grouped_data = data.groupby('Egitim')[column_name].apply(lambda x: (x == 'Evet').mean()).sort_values(ascending=True)\n",
    "    \n",
    "    plt.figure(figsize=(10, 6))\n",
    "\n",
    "    grouped_data.plot(kind='bar', color=colors[i-1])\n",
    "    plt.xlabel('Education level')\n",
    "    plt.ylabel('Frequency')\n",
    "    plt.title(f'Number of \"Yes\" Answers in Each Education Level, Question {i}')\n",
    "    plt.xticks(rotation=45, ha='right')\n",
    "    plt.tight_layout()\n",
    "    plt.savefig(f'{column_folder}/egitim{i}.png')\n",
    "    plt.close()"
   ]
  },
  {
   "cell_type": "code",
   "execution_count": 4,
   "metadata": {},
   "outputs": [],
   "source": [
    "for i in range(1, 11):\n",
    "    column_name = f'soru{i}'\n",
    "    column_folder = f'histograms/{column_name}'\n",
    "    os.makedirs(column_folder, exist_ok=True)\n",
    "    \n",
    "    grouped_data = data.groupby('Cinsiyet')[column_name].apply(lambda x: (x == 'Evet').mean()).sort_values(ascending=True)\n",
    "    \n",
    "    plt.figure(figsize=(10, 6))\n",
    "\n",
    "    grouped_data.plot(kind='bar', color=colors[i-1])\n",
    "    plt.xlabel('Sex')\n",
    "    plt.ylabel('Frequency')\n",
    "    plt.title(f'Number of \"Yes\" Answers based on sex, Question {i}')\n",
    "    plt.xticks(rotation=45, ha='right')\n",
    "    plt.tight_layout()\n",
    "    plt.savefig(f'{column_folder}/cinsiyet{i}.png')\n",
    "    plt.close()"
   ]
  },
  {
   "cell_type": "code",
   "execution_count": 5,
   "metadata": {},
   "outputs": [],
   "source": [
    "for i in range(1, 11):\n",
    "    column_name = f'soru{i}'\n",
    "    column_folder = f'histograms/{column_name}'\n",
    "    os.makedirs(column_folder, exist_ok=True)\n",
    "    \n",
    "    grouped_data = data.groupby('parti')[column_name].apply(lambda x: (x == 'Evet').mean()).sort_values(ascending=True)\n",
    "    \n",
    "    plt.figure(figsize=(10, 6))\n",
    "\n",
    "    grouped_data.plot(kind='bar', color=colors[i-1])\n",
    "    plt.xlabel('Political party')\n",
    "    plt.ylabel('Frequency')\n",
    "    plt.title(f'Number of \"Yes\" Answers in Each political party, Question {i}')\n",
    "    plt.xticks(rotation=45, ha='right')\n",
    "    plt.tight_layout()\n",
    "    plt.savefig(f'{column_folder}/parti{i}.png')\n",
    "    plt.close()"
   ]
  },
  {
   "cell_type": "code",
   "execution_count": 12,
   "metadata": {},
   "outputs": [],
   "source": [
    "import pandas as pd\n",
    "\n",
    "data = pd.read_csv('yonelimfinal.csv', sep=';', encoding='utf-8')\n",
    "\n",
    "question_columns = ['soru1', 'soru2', 'soru3', 'soru4', 'soru5', 'soru6', 'soru7', 'soru8', 'soru9', 'soru10']\n",
    "data[question_columns] = data[question_columns].replace({'Hayır': 0, 'Evet': 1})\n",
    "data['Std_Dev'] = data[question_columns].apply(lambda row: row.std(), axis=1)\n",
    "data['Median'] = data[question_columns].apply(lambda row: row.median(), axis=1)\n",
    "for column in question_columns:\n",
    "    data[f'Deviation_{column}'] = data[column].apply(lambda x: 'Above Median' if x == 1 else 'Below Median')\n",
    "\n",
    "\n",
    "data.to_csv('updated_data.csv', index=False)"
   ]
  },
  {
   "cell_type": "code",
   "execution_count": 30,
   "metadata": {},
   "outputs": [
    {
     "name": "stdout",
     "output_type": "stream",
     "text": [
      "Accuracy: 0.3125\n"
     ]
    }
   ],
   "source": [
    "import pandas as pd\n",
    "from sklearn.model_selection import train_test_split\n",
    "from sklearn.neighbors import KNeighborsClassifier\n",
    "from sklearn.preprocessing import OneHotEncoder\n",
    "from sklearn.compose import ColumnTransformer\n",
    "from sklearn.metrics import accuracy_score\n",
    "\n",
    "data = pd.read_csv('yonelimfinal.csv', sep=';', encoding='utf-8')\n",
    "features = ['Cinsiyet', 'Yas', 'Bolge', 'Egitim', 'soru1', 'soru2', 'soru3', 'soru4', 'soru5', 'soru6', 'soru7', 'soru8', 'soru9', 'soru10']\n",
    "target = 'parti'\n",
    "\n",
    "X = data.drop('parti', axis=1)\n",
    "y = data['parti']\n",
    "\n",
    "sample_size = 400\n",
    "data_sample = data.sample(n=sample_size, random_state=42)\n",
    "X_sample = data_sample.drop('parti', axis=1)\n",
    "y_sample = data_sample['parti']\n",
    "\n",
    "X_encoded = pd.get_dummies(X_sample)\n",
    "\n",
    "X_train, X_test, y_train, y_test = train_test_split(X_encoded, y_sample, test_size=0.2, random_state=42)\n",
    "\n",
    "k = 5\n",
    "knn_model = KNeighborsClassifier(n_neighbors=k)\n",
    "knn_model.fit(X_train, y_train)\n",
    "\n",
    "y_pred = knn_model.predict(X_test)\n",
    "\n",
    "\n",
    "accuracy = accuracy_score(y_test, y_pred)\n",
    "print(f\"Accuracy: {accuracy}\")\n",
    "\n"
   ]
  },
  {
   "cell_type": "code",
   "execution_count": 31,
   "metadata": {},
   "outputs": [
    {
     "data": {
      "image/png": "[encoded data removed]",
      "text/plain": [
       "<Figure size 800x600 with 2 Axes>"
      ]
     },
     "metadata": {},
     "output_type": "display_data"
    },
    {
     "name": "stdout",
     "output_type": "stream",
     "text": [
      "Correct Guesses: 25/80\n"
     ]
    }
   ],
   "source": [
    "import pandas as pd\n",
    "import matplotlib.pyplot as plt\n",
    "import seaborn as sns\n",
    "from sklearn.neighbors import KNeighborsClassifier\n",
    "from sklearn.model_selection import train_test_split\n",
    "from sklearn.metrics import confusion_matrix\n",
    "\n",
    "data = pd.read_csv('yonelimfinal.csv', sep=';', encoding='utf-8')\n",
    "\n",
    "X = data.drop('parti', axis=1)\n",
    "y = data['parti']\n",
    "\n",
    "sample_size = 400\n",
    "data_sample = data.sample(n=sample_size, random_state=42)\n",
    "X_sample = data_sample.drop('parti', axis=1)\n",
    "y_sample = data_sample['parti']\n",
    "\n",
    "X_encoded = pd.get_dummies(X_sample)\n",
    "\n",
    "X_train, X_test, y_train, y_test = train_test_split(X_encoded, y_sample, test_size=0.2, random_state=42)\n",
    "\n",
    "k = 5\n",
    "knn_model = KNeighborsClassifier(n_neighbors=k)\n",
    "knn_model.fit(X_train, y_train)\n",
    "\n",
    "y_pred = knn_model.predict(X_test)\n",
    "\n",
    "cm = confusion_matrix(y_test, y_pred)\n",
    "\n",
    "plt.figure(figsize=(8, 6))\n",
    "sns.heatmap(cm, annot=True, fmt='d', cmap='Blues')\n",
    "plt.xlabel('Predicted')\n",
    "plt.ylabel('Actual')\n",
    "plt.title('Confusion Matrix')\n",
    "plt.show()\n",
    "\n",
    "correct_guesses = sum(y_test == y_pred)\n",
    "total_guesses = len(y_test)\n",
    "print(f\"Correct Guesses: {correct_guesses}/{total_guesses}\")\n"
   ]
  }
 ],
 "metadata": {
  "kernelspec": {
   "display_name": "Python 3",
   "language": "python",
   "name": "python3"
  },
  "language_info": {
   "codemirror_mode": {
    "name": "ipython",
    "version": 3
   },
   "file_extension": ".py",
   "mimetype": "text/x-python",
   "name": "python",
   "nbconvert_exporter": "python",
   "pygments_lexer": "ipython3",
   "version": "3.11.2"
  },
  "orig_nbformat": 4
 },
 "nbformat": 4,
 "nbformat_minor": 2
}
